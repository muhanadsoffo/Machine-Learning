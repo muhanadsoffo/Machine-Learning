{
 "cells": [
  {
   "cell_type": "code",
   "execution_count": 16,
   "metadata": {},
   "outputs": [],
   "source": [
    "import pandas as pd\n",
    "import numpy as np\n",
    "import matplotlib.pyplot as plt\n",
    "from sklearn.linear_model import LinearRegression"
   ]
  },
  {
   "cell_type": "code",
   "execution_count": 17,
   "metadata": {},
   "outputs": [],
   "source": [
    "df = pd.read_csv(\"multiple-linear-regression-dataset.csv\",sep = \";\")\n",
    "\n",
    "x = df.iloc[:,[0,2]].values # extracting the features data from the dataset file in column 0,2 and save it in x\n",
    "y = df.salary.values.reshape(-1,1) #extracting the output and reshape to 2D array and store it in y\n",
    "\n"
   ]
  },
  {
   "cell_type": "code",
   "execution_count": 18,
   "metadata": {},
   "outputs": [
    {
     "name": "stdout",
     "output_type": "stream",
     "text": [
      "b0:  [10376.62747228]\n",
      "b1,b2:  [[1525.50072054 -416.72218625]]\n"
     ]
    }
   ],
   "source": [
    "# %% fitting data\n",
    "multiple_linear_regression = LinearRegression() #creating an instance from LinearRegression class\n",
    "multiple_linear_regression.fit(x,y) #fit the multiple linear regression model into features x and output y\n",
    "\n",
    "print(\"b0: \", multiple_linear_regression.intercept_) #Print the intercept term of the multiple linear regression model\n",
    "print(\"b1,b2: \",multiple_linear_regression.coef_)#Print the coefficients (\"b1\" and \"b2\") of the features\n",
    "\n"
   ]
  },
  {
   "cell_type": "code",
   "execution_count": 19,
   "metadata": {},
   "outputs": [
    {
     "data": {
      "text/plain": [
       "array([[11046.35815877],\n",
       "       [ 3418.85455609]])"
      ]
     },
     "execution_count": 19,
     "metadata": {},
     "output_type": "execute_result"
    }
   ],
   "source": [
    "# predict\n",
    "multiple_linear_regression.predict(np.array([[10,35],[5,35]]))#Use the trained multiple linear regression model to make predictions for two sets of input feature values"
   ]
  }
 ],
 "metadata": {
  "kernelspec": {
   "display_name": "Python 3 (ipykernel)",
   "language": "python",
   "name": "python3"
  },
  "language_info": {
   "codemirror_mode": {
    "name": "ipython",
    "version": 3
   },
   "file_extension": ".py",
   "mimetype": "text/x-python",
   "name": "python",
   "nbconvert_exporter": "python",
   "pygments_lexer": "ipython3",
   "version": "3.11.3"
  }
 },
 "nbformat": 4,
 "nbformat_minor": 2
}
